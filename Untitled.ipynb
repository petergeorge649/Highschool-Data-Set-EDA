{
 "cells": [
  {
   "cell_type": "markdown",
   "metadata": {},
   "source": [
    "### Explaratory Data Analysis HIGH-SCHOOL DATA SET"
   ]
  },
  {
   "cell_type": "code",
   "execution_count": 1,
   "metadata": {},
   "outputs": [],
   "source": [
    "import pandas as pd\n",
    "import numpy as np\n",
    "import datetime\n",
    "import warnings\n",
    "warnings.filterwarnings('ignore')\n",
    "warnings.filterwarnings(\"ignore\", message=\"numpy.ufunc size changed\")\n",
    "import matplotlib.pyplot as plt\n",
    "import seaborn as sns\n",
    "%matplotlib inline\n",
    "pd.set_option('display.max_columns', None)\n",
    "from sklearn.metrics import accuracy_score\n",
    "import statsmodels.api as sm\n",
    "from sklearn.preprocessing import Normalizer\n",
    "from sklearn.linear_model import LogisticRegression\n",
    "from sklearn.model_selection import train_test_split\n",
    "from sklearn.metrics import accuracy_score \n",
    "from sklearn.preprocessing import LabelEncoder\n",
    "from sklearn.preprocessing import StandardScaler\n",
    "from sklearn.metrics import classification_report\n",
    "from sklearn.tree import DecisionTreeClassifier\n",
    "from sklearn.metrics import confusion_matrix\n",
    "from sklearn.feature_selection import mutual_info_classif"
   ]
  },
  {
   "cell_type": "code",
   "execution_count": 2,
   "metadata": {},
   "outputs": [
    {
     "data": {
      "text/html": [
       "<div>\n",
       "<style scoped>\n",
       "    .dataframe tbody tr th:only-of-type {\n",
       "        vertical-align: middle;\n",
       "    }\n",
       "\n",
       "    .dataframe tbody tr th {\n",
       "        vertical-align: top;\n",
       "    }\n",
       "\n",
       "    .dataframe thead th {\n",
       "        text-align: right;\n",
       "    }\n",
       "</style>\n",
       "<table border=\"1\" class=\"dataframe\">\n",
       "  <thead>\n",
       "    <tr style=\"text-align: right;\">\n",
       "      <th></th>\n",
       "      <th>student id</th>\n",
       "      <th>Gender</th>\n",
       "      <th>scores submitted</th>\n",
       "      <th>SAT Reading Writing Range</th>\n",
       "      <th>SAT Math Range</th>\n",
       "      <th>ACT Composite Range</th>\n",
       "      <th>High School Ranking</th>\n",
       "      <th>GPA Range</th>\n",
       "      <th>Out of State Flag</th>\n",
       "      <th>Housing</th>\n",
       "      <th>Non-Traditional Student</th>\n",
       "      <th>Transfer Student</th>\n",
       "      <th>Full-Time</th>\n",
       "    </tr>\n",
       "  </thead>\n",
       "  <tbody>\n",
       "    <tr>\n",
       "      <th>0</th>\n",
       "      <td>046-46-0144</td>\n",
       "      <td>Male</td>\n",
       "      <td>SAT</td>\n",
       "      <td>500-599</td>\n",
       "      <td>400-499</td>\n",
       "      <td>NaN</td>\n",
       "      <td>NaN</td>\n",
       "      <td>2.50-2.99</td>\n",
       "      <td>No</td>\n",
       "      <td>College Owned/Operated</td>\n",
       "      <td>No</td>\n",
       "      <td>No</td>\n",
       "      <td>Yes</td>\n",
       "    </tr>\n",
       "    <tr>\n",
       "      <th>1</th>\n",
       "      <td>571-27-9819</td>\n",
       "      <td>Female</td>\n",
       "      <td>SAT</td>\n",
       "      <td>700-800</td>\n",
       "      <td>500-599</td>\n",
       "      <td>NaN</td>\n",
       "      <td>Top Quarter</td>\n",
       "      <td>2.0-2.49</td>\n",
       "      <td>No</td>\n",
       "      <td>College Owned/Operated</td>\n",
       "      <td>No</td>\n",
       "      <td>No</td>\n",
       "      <td>No</td>\n",
       "    </tr>\n",
       "    <tr>\n",
       "      <th>2</th>\n",
       "      <td>080-49-9674</td>\n",
       "      <td>Female</td>\n",
       "      <td>ACT</td>\n",
       "      <td>NaN</td>\n",
       "      <td>NaN</td>\n",
       "      <td>18-23</td>\n",
       "      <td>NaN</td>\n",
       "      <td>3.00-3.24</td>\n",
       "      <td>Yes</td>\n",
       "      <td>College Owned/Operated</td>\n",
       "      <td>No</td>\n",
       "      <td>No</td>\n",
       "      <td>Yes</td>\n",
       "    </tr>\n",
       "    <tr>\n",
       "      <th>3</th>\n",
       "      <td>956-46-6295</td>\n",
       "      <td>Female</td>\n",
       "      <td>ACT</td>\n",
       "      <td>NaN</td>\n",
       "      <td>NaN</td>\n",
       "      <td>18-23</td>\n",
       "      <td>NaN</td>\n",
       "      <td>3.75+</td>\n",
       "      <td>No</td>\n",
       "      <td>College Owned/Operated</td>\n",
       "      <td>No</td>\n",
       "      <td>No</td>\n",
       "      <td>Yes</td>\n",
       "    </tr>\n",
       "    <tr>\n",
       "      <th>4</th>\n",
       "      <td>784-70-5844</td>\n",
       "      <td>Female</td>\n",
       "      <td>ACT</td>\n",
       "      <td>NaN</td>\n",
       "      <td>NaN</td>\n",
       "      <td>18-23</td>\n",
       "      <td>NaN</td>\n",
       "      <td>3.75+</td>\n",
       "      <td>No</td>\n",
       "      <td>College Owned/Operated</td>\n",
       "      <td>No</td>\n",
       "      <td>No</td>\n",
       "      <td>Yes</td>\n",
       "    </tr>\n",
       "    <tr>\n",
       "      <th>...</th>\n",
       "      <td>...</td>\n",
       "      <td>...</td>\n",
       "      <td>...</td>\n",
       "      <td>...</td>\n",
       "      <td>...</td>\n",
       "      <td>...</td>\n",
       "      <td>...</td>\n",
       "      <td>...</td>\n",
       "      <td>...</td>\n",
       "      <td>...</td>\n",
       "      <td>...</td>\n",
       "      <td>...</td>\n",
       "      <td>...</td>\n",
       "    </tr>\n",
       "    <tr>\n",
       "      <th>3878</th>\n",
       "      <td>156-07-8473</td>\n",
       "      <td>Male</td>\n",
       "      <td>ACT</td>\n",
       "      <td>NaN</td>\n",
       "      <td>NaN</td>\n",
       "      <td>24-29</td>\n",
       "      <td>Top Quarter</td>\n",
       "      <td>3.75+</td>\n",
       "      <td>No</td>\n",
       "      <td>College Owned/Operated</td>\n",
       "      <td>No</td>\n",
       "      <td>No</td>\n",
       "      <td>Yes</td>\n",
       "    </tr>\n",
       "    <tr>\n",
       "      <th>3879</th>\n",
       "      <td>150-09-9432</td>\n",
       "      <td>Female</td>\n",
       "      <td>ACT</td>\n",
       "      <td>NaN</td>\n",
       "      <td>NaN</td>\n",
       "      <td>24-29</td>\n",
       "      <td>NaN</td>\n",
       "      <td>3.00-3.24</td>\n",
       "      <td>No</td>\n",
       "      <td>College Owned/Operated</td>\n",
       "      <td>No</td>\n",
       "      <td>No</td>\n",
       "      <td>Yes</td>\n",
       "    </tr>\n",
       "    <tr>\n",
       "      <th>3880</th>\n",
       "      <td>351-29-9416</td>\n",
       "      <td>Female</td>\n",
       "      <td>ACT</td>\n",
       "      <td>NaN</td>\n",
       "      <td>NaN</td>\n",
       "      <td>18-23</td>\n",
       "      <td>Top Half</td>\n",
       "      <td>3.00-3.24</td>\n",
       "      <td>No</td>\n",
       "      <td>College Owned/Operated</td>\n",
       "      <td>No</td>\n",
       "      <td>No</td>\n",
       "      <td>No</td>\n",
       "    </tr>\n",
       "    <tr>\n",
       "      <th>3881</th>\n",
       "      <td>313-84-1457</td>\n",
       "      <td>Female</td>\n",
       "      <td>SAT</td>\n",
       "      <td>500-599</td>\n",
       "      <td>700-800</td>\n",
       "      <td>NaN</td>\n",
       "      <td>NaN</td>\n",
       "      <td>1.0-1.99</td>\n",
       "      <td>No</td>\n",
       "      <td>College Owned/Operated</td>\n",
       "      <td>No</td>\n",
       "      <td>Yes</td>\n",
       "      <td>No</td>\n",
       "    </tr>\n",
       "    <tr>\n",
       "      <th>3882</th>\n",
       "      <td>321-16-7824</td>\n",
       "      <td>Female</td>\n",
       "      <td>SAT</td>\n",
       "      <td>600-699</td>\n",
       "      <td>600-699</td>\n",
       "      <td>NaN</td>\n",
       "      <td>Top Quarter</td>\n",
       "      <td>2.50-2.99</td>\n",
       "      <td>No</td>\n",
       "      <td>Off-Campus</td>\n",
       "      <td>No</td>\n",
       "      <td>No</td>\n",
       "      <td>No</td>\n",
       "    </tr>\n",
       "  </tbody>\n",
       "</table>\n",
       "<p>3883 rows × 13 columns</p>\n",
       "</div>"
      ],
      "text/plain": [
       "       student id  Gender scores submitted SAT Reading Writing Range  \\\n",
       "0     046-46-0144    Male              SAT                   500-599   \n",
       "1     571-27-9819  Female              SAT                   700-800   \n",
       "2     080-49-9674  Female              ACT                       NaN   \n",
       "3     956-46-6295  Female              ACT                       NaN   \n",
       "4     784-70-5844  Female              ACT                       NaN   \n",
       "...           ...     ...              ...                       ...   \n",
       "3878  156-07-8473    Male              ACT                       NaN   \n",
       "3879  150-09-9432  Female              ACT                       NaN   \n",
       "3880  351-29-9416  Female              ACT                       NaN   \n",
       "3881  313-84-1457  Female              SAT                   500-599   \n",
       "3882  321-16-7824  Female              SAT                   600-699   \n",
       "\n",
       "     SAT Math Range ACT Composite Range High School Ranking  GPA Range  \\\n",
       "0           400-499                 NaN                 NaN  2.50-2.99   \n",
       "1           500-599                 NaN         Top Quarter   2.0-2.49   \n",
       "2               NaN               18-23                 NaN  3.00-3.24   \n",
       "3               NaN               18-23                 NaN      3.75+   \n",
       "4               NaN               18-23                 NaN      3.75+   \n",
       "...             ...                 ...                 ...        ...   \n",
       "3878            NaN               24-29         Top Quarter      3.75+   \n",
       "3879            NaN               24-29                 NaN  3.00-3.24   \n",
       "3880            NaN               18-23            Top Half  3.00-3.24   \n",
       "3881        700-800                 NaN                 NaN   1.0-1.99   \n",
       "3882        600-699                 NaN         Top Quarter  2.50-2.99   \n",
       "\n",
       "     Out of State Flag                 Housing Non-Traditional Student  \\\n",
       "0                   No  College Owned/Operated                      No   \n",
       "1                   No  College Owned/Operated                      No   \n",
       "2                  Yes  College Owned/Operated                      No   \n",
       "3                   No  College Owned/Operated                      No   \n",
       "4                   No  College Owned/Operated                      No   \n",
       "...                ...                     ...                     ...   \n",
       "3878                No  College Owned/Operated                      No   \n",
       "3879                No  College Owned/Operated                      No   \n",
       "3880                No  College Owned/Operated                      No   \n",
       "3881                No  College Owned/Operated                      No   \n",
       "3882                No              Off-Campus                      No   \n",
       "\n",
       "     Transfer Student Full-Time  \n",
       "0                  No       Yes  \n",
       "1                  No        No  \n",
       "2                  No       Yes  \n",
       "3                  No       Yes  \n",
       "4                  No       Yes  \n",
       "...               ...       ...  \n",
       "3878               No       Yes  \n",
       "3879               No       Yes  \n",
       "3880               No        No  \n",
       "3881              Yes        No  \n",
       "3882               No        No  \n",
       "\n",
       "[3883 rows x 13 columns]"
      ]
     },
     "execution_count": 2,
     "metadata": {},
     "output_type": "execute_result"
    }
   ],
   "source": [
    "df = pd.read_csv('Higher Education.csv')\n",
    "df"
   ]
  },
  {
   "cell_type": "code",
   "execution_count": 3,
   "metadata": {},
   "outputs": [
    {
     "data": {
      "text/html": [
       "<div>\n",
       "<style scoped>\n",
       "    .dataframe tbody tr th:only-of-type {\n",
       "        vertical-align: middle;\n",
       "    }\n",
       "\n",
       "    .dataframe tbody tr th {\n",
       "        vertical-align: top;\n",
       "    }\n",
       "\n",
       "    .dataframe thead th {\n",
       "        text-align: right;\n",
       "    }\n",
       "</style>\n",
       "<table border=\"1\" class=\"dataframe\">\n",
       "  <thead>\n",
       "    <tr style=\"text-align: right;\">\n",
       "      <th></th>\n",
       "      <th>student id</th>\n",
       "      <th>Gender</th>\n",
       "      <th>scores submitted</th>\n",
       "      <th>SAT Reading Writing Range</th>\n",
       "      <th>SAT Math Range</th>\n",
       "      <th>ACT Composite Range</th>\n",
       "      <th>High School Ranking</th>\n",
       "      <th>GPA Range</th>\n",
       "      <th>Out of State Flag</th>\n",
       "      <th>Housing</th>\n",
       "      <th>Non-Traditional Student</th>\n",
       "      <th>Transfer Student</th>\n",
       "      <th>Full-Time</th>\n",
       "    </tr>\n",
       "  </thead>\n",
       "  <tbody>\n",
       "    <tr>\n",
       "      <th>0</th>\n",
       "      <td>046-46-0144</td>\n",
       "      <td>Male</td>\n",
       "      <td>SAT</td>\n",
       "      <td>500-599</td>\n",
       "      <td>400-499</td>\n",
       "      <td>NaN</td>\n",
       "      <td>NaN</td>\n",
       "      <td>2.50-2.99</td>\n",
       "      <td>No</td>\n",
       "      <td>College Owned/Operated</td>\n",
       "      <td>No</td>\n",
       "      <td>No</td>\n",
       "      <td>Yes</td>\n",
       "    </tr>\n",
       "    <tr>\n",
       "      <th>1</th>\n",
       "      <td>571-27-9819</td>\n",
       "      <td>Female</td>\n",
       "      <td>SAT</td>\n",
       "      <td>700-800</td>\n",
       "      <td>500-599</td>\n",
       "      <td>NaN</td>\n",
       "      <td>Top Quarter</td>\n",
       "      <td>2.0-2.49</td>\n",
       "      <td>No</td>\n",
       "      <td>College Owned/Operated</td>\n",
       "      <td>No</td>\n",
       "      <td>No</td>\n",
       "      <td>No</td>\n",
       "    </tr>\n",
       "    <tr>\n",
       "      <th>2</th>\n",
       "      <td>080-49-9674</td>\n",
       "      <td>Female</td>\n",
       "      <td>ACT</td>\n",
       "      <td>NaN</td>\n",
       "      <td>NaN</td>\n",
       "      <td>18-23</td>\n",
       "      <td>NaN</td>\n",
       "      <td>3.00-3.24</td>\n",
       "      <td>Yes</td>\n",
       "      <td>College Owned/Operated</td>\n",
       "      <td>No</td>\n",
       "      <td>No</td>\n",
       "      <td>Yes</td>\n",
       "    </tr>\n",
       "    <tr>\n",
       "      <th>3</th>\n",
       "      <td>956-46-6295</td>\n",
       "      <td>Female</td>\n",
       "      <td>ACT</td>\n",
       "      <td>NaN</td>\n",
       "      <td>NaN</td>\n",
       "      <td>18-23</td>\n",
       "      <td>NaN</td>\n",
       "      <td>3.75+</td>\n",
       "      <td>No</td>\n",
       "      <td>College Owned/Operated</td>\n",
       "      <td>No</td>\n",
       "      <td>No</td>\n",
       "      <td>Yes</td>\n",
       "    </tr>\n",
       "    <tr>\n",
       "      <th>4</th>\n",
       "      <td>784-70-5844</td>\n",
       "      <td>Female</td>\n",
       "      <td>ACT</td>\n",
       "      <td>NaN</td>\n",
       "      <td>NaN</td>\n",
       "      <td>18-23</td>\n",
       "      <td>NaN</td>\n",
       "      <td>3.75+</td>\n",
       "      <td>No</td>\n",
       "      <td>College Owned/Operated</td>\n",
       "      <td>No</td>\n",
       "      <td>No</td>\n",
       "      <td>Yes</td>\n",
       "    </tr>\n",
       "  </tbody>\n",
       "</table>\n",
       "</div>"
      ],
      "text/plain": [
       "    student id  Gender scores submitted SAT Reading Writing Range  \\\n",
       "0  046-46-0144    Male              SAT                   500-599   \n",
       "1  571-27-9819  Female              SAT                   700-800   \n",
       "2  080-49-9674  Female              ACT                       NaN   \n",
       "3  956-46-6295  Female              ACT                       NaN   \n",
       "4  784-70-5844  Female              ACT                       NaN   \n",
       "\n",
       "  SAT Math Range ACT Composite Range High School Ranking  GPA Range  \\\n",
       "0        400-499                 NaN                 NaN  2.50-2.99   \n",
       "1        500-599                 NaN         Top Quarter   2.0-2.49   \n",
       "2            NaN               18-23                 NaN  3.00-3.24   \n",
       "3            NaN               18-23                 NaN      3.75+   \n",
       "4            NaN               18-23                 NaN      3.75+   \n",
       "\n",
       "  Out of State Flag                 Housing Non-Traditional Student  \\\n",
       "0                No  College Owned/Operated                      No   \n",
       "1                No  College Owned/Operated                      No   \n",
       "2               Yes  College Owned/Operated                      No   \n",
       "3                No  College Owned/Operated                      No   \n",
       "4                No  College Owned/Operated                      No   \n",
       "\n",
       "  Transfer Student Full-Time  \n",
       "0               No       Yes  \n",
       "1               No        No  \n",
       "2               No       Yes  \n",
       "3               No       Yes  \n",
       "4               No       Yes  "
      ]
     },
     "execution_count": 3,
     "metadata": {},
     "output_type": "execute_result"
    }
   ],
   "source": [
    "df.head()"
   ]
  },
  {
   "cell_type": "code",
   "execution_count": 4,
   "metadata": {},
   "outputs": [
    {
     "data": {
      "text/plain": [
       "(3883, 13)"
      ]
     },
     "execution_count": 4,
     "metadata": {},
     "output_type": "execute_result"
    }
   ],
   "source": [
    "df.shape"
   ]
  },
  {
   "cell_type": "code",
   "execution_count": 5,
   "metadata": {},
   "outputs": [
    {
     "data": {
      "text/plain": [
       "3883"
      ]
     },
     "execution_count": 5,
     "metadata": {},
     "output_type": "execute_result"
    }
   ],
   "source": [
    "len(df)"
   ]
  },
  {
   "cell_type": "code",
   "execution_count": 6,
   "metadata": {},
   "outputs": [
    {
     "data": {
      "text/plain": [
       "Index(['student id', 'Gender', 'scores submitted', 'SAT Reading Writing Range',\n",
       "       'SAT Math Range', 'ACT Composite Range', 'High School Ranking',\n",
       "       'GPA Range', 'Out of State Flag', 'Housing', 'Non-Traditional Student',\n",
       "       'Transfer Student', 'Full-Time'],\n",
       "      dtype='object')"
      ]
     },
     "execution_count": 6,
     "metadata": {},
     "output_type": "execute_result"
    }
   ],
   "source": [
    "df.columns"
   ]
  },
  {
   "cell_type": "code",
   "execution_count": 7,
   "metadata": {},
   "outputs": [
    {
     "name": "stdout",
     "output_type": "stream",
     "text": [
      "Index(['student_id', 'gender', 'scores_submitted', 'sat_reading_writing_range',\n",
      "       'sat_math_range', 'act_composite_range', 'high_school_ranking',\n",
      "       'gpa_range', 'out_of_state_flag', 'housing', 'non-traditional_student',\n",
      "       'transfer_student', 'full-time'],\n",
      "      dtype='object')\n"
     ]
    }
   ],
   "source": [
    "cols = []\n",
    "for i in range(len(df.columns)):\n",
    "    cols.append(df.columns[i].lower().replace(' ','_'))\n",
    "df.columns = cols\n",
    "print(df.columns)"
   ]
  },
  {
   "cell_type": "code",
   "execution_count": 8,
   "metadata": {},
   "outputs": [
    {
     "data": {
      "text/plain": [
       "['student_id',\n",
       " 'gender',\n",
       " 'scores_submitted',\n",
       " 'sat_reading_writing_range',\n",
       " 'sat_math_range',\n",
       " 'act_composite_range',\n",
       " 'high_school_ranking',\n",
       " 'gpa_range',\n",
       " 'out_of_state_flag',\n",
       " 'housing',\n",
       " 'non-traditional_student',\n",
       " 'transfer_student',\n",
       " 'full-time']"
      ]
     },
     "execution_count": 8,
     "metadata": {},
     "output_type": "execute_result"
    }
   ],
   "source": [
    "cols"
   ]
  },
  {
   "cell_type": "code",
   "execution_count": 9,
   "metadata": {},
   "outputs": [
    {
     "data": {
      "text/html": [
       "<div>\n",
       "<style scoped>\n",
       "    .dataframe tbody tr th:only-of-type {\n",
       "        vertical-align: middle;\n",
       "    }\n",
       "\n",
       "    .dataframe tbody tr th {\n",
       "        vertical-align: top;\n",
       "    }\n",
       "\n",
       "    .dataframe thead th {\n",
       "        text-align: right;\n",
       "    }\n",
       "</style>\n",
       "<table border=\"1\" class=\"dataframe\">\n",
       "  <thead>\n",
       "    <tr style=\"text-align: right;\">\n",
       "      <th></th>\n",
       "      <th>student_id</th>\n",
       "      <th>gender</th>\n",
       "      <th>scores_submitted</th>\n",
       "      <th>sat_reading_writing_range</th>\n",
       "      <th>sat_math_range</th>\n",
       "      <th>act_composite_range</th>\n",
       "      <th>high_school_ranking</th>\n",
       "      <th>gpa_range</th>\n",
       "      <th>out_of_state_flag</th>\n",
       "      <th>housing</th>\n",
       "      <th>non-traditional_student</th>\n",
       "      <th>transfer_student</th>\n",
       "      <th>full-time</th>\n",
       "    </tr>\n",
       "  </thead>\n",
       "  <tbody>\n",
       "    <tr>\n",
       "      <th>0</th>\n",
       "      <td>046-46-0144</td>\n",
       "      <td>Male</td>\n",
       "      <td>SAT</td>\n",
       "      <td>500-599</td>\n",
       "      <td>400-499</td>\n",
       "      <td>NaN</td>\n",
       "      <td>NaN</td>\n",
       "      <td>2.50-2.99</td>\n",
       "      <td>No</td>\n",
       "      <td>College Owned/Operated</td>\n",
       "      <td>No</td>\n",
       "      <td>No</td>\n",
       "      <td>Yes</td>\n",
       "    </tr>\n",
       "    <tr>\n",
       "      <th>1</th>\n",
       "      <td>571-27-9819</td>\n",
       "      <td>Female</td>\n",
       "      <td>SAT</td>\n",
       "      <td>700-800</td>\n",
       "      <td>500-599</td>\n",
       "      <td>NaN</td>\n",
       "      <td>Top Quarter</td>\n",
       "      <td>2.0-2.49</td>\n",
       "      <td>No</td>\n",
       "      <td>College Owned/Operated</td>\n",
       "      <td>No</td>\n",
       "      <td>No</td>\n",
       "      <td>No</td>\n",
       "    </tr>\n",
       "    <tr>\n",
       "      <th>2</th>\n",
       "      <td>080-49-9674</td>\n",
       "      <td>Female</td>\n",
       "      <td>ACT</td>\n",
       "      <td>NaN</td>\n",
       "      <td>NaN</td>\n",
       "      <td>18-23</td>\n",
       "      <td>NaN</td>\n",
       "      <td>3.00-3.24</td>\n",
       "      <td>Yes</td>\n",
       "      <td>College Owned/Operated</td>\n",
       "      <td>No</td>\n",
       "      <td>No</td>\n",
       "      <td>Yes</td>\n",
       "    </tr>\n",
       "    <tr>\n",
       "      <th>3</th>\n",
       "      <td>956-46-6295</td>\n",
       "      <td>Female</td>\n",
       "      <td>ACT</td>\n",
       "      <td>NaN</td>\n",
       "      <td>NaN</td>\n",
       "      <td>18-23</td>\n",
       "      <td>NaN</td>\n",
       "      <td>3.75+</td>\n",
       "      <td>No</td>\n",
       "      <td>College Owned/Operated</td>\n",
       "      <td>No</td>\n",
       "      <td>No</td>\n",
       "      <td>Yes</td>\n",
       "    </tr>\n",
       "    <tr>\n",
       "      <th>4</th>\n",
       "      <td>784-70-5844</td>\n",
       "      <td>Female</td>\n",
       "      <td>ACT</td>\n",
       "      <td>NaN</td>\n",
       "      <td>NaN</td>\n",
       "      <td>18-23</td>\n",
       "      <td>NaN</td>\n",
       "      <td>3.75+</td>\n",
       "      <td>No</td>\n",
       "      <td>College Owned/Operated</td>\n",
       "      <td>No</td>\n",
       "      <td>No</td>\n",
       "      <td>Yes</td>\n",
       "    </tr>\n",
       "    <tr>\n",
       "      <th>...</th>\n",
       "      <td>...</td>\n",
       "      <td>...</td>\n",
       "      <td>...</td>\n",
       "      <td>...</td>\n",
       "      <td>...</td>\n",
       "      <td>...</td>\n",
       "      <td>...</td>\n",
       "      <td>...</td>\n",
       "      <td>...</td>\n",
       "      <td>...</td>\n",
       "      <td>...</td>\n",
       "      <td>...</td>\n",
       "      <td>...</td>\n",
       "    </tr>\n",
       "    <tr>\n",
       "      <th>3878</th>\n",
       "      <td>156-07-8473</td>\n",
       "      <td>Male</td>\n",
       "      <td>ACT</td>\n",
       "      <td>NaN</td>\n",
       "      <td>NaN</td>\n",
       "      <td>24-29</td>\n",
       "      <td>Top Quarter</td>\n",
       "      <td>3.75+</td>\n",
       "      <td>No</td>\n",
       "      <td>College Owned/Operated</td>\n",
       "      <td>No</td>\n",
       "      <td>No</td>\n",
       "      <td>Yes</td>\n",
       "    </tr>\n",
       "    <tr>\n",
       "      <th>3879</th>\n",
       "      <td>150-09-9432</td>\n",
       "      <td>Female</td>\n",
       "      <td>ACT</td>\n",
       "      <td>NaN</td>\n",
       "      <td>NaN</td>\n",
       "      <td>24-29</td>\n",
       "      <td>NaN</td>\n",
       "      <td>3.00-3.24</td>\n",
       "      <td>No</td>\n",
       "      <td>College Owned/Operated</td>\n",
       "      <td>No</td>\n",
       "      <td>No</td>\n",
       "      <td>Yes</td>\n",
       "    </tr>\n",
       "    <tr>\n",
       "      <th>3880</th>\n",
       "      <td>351-29-9416</td>\n",
       "      <td>Female</td>\n",
       "      <td>ACT</td>\n",
       "      <td>NaN</td>\n",
       "      <td>NaN</td>\n",
       "      <td>18-23</td>\n",
       "      <td>Top Half</td>\n",
       "      <td>3.00-3.24</td>\n",
       "      <td>No</td>\n",
       "      <td>College Owned/Operated</td>\n",
       "      <td>No</td>\n",
       "      <td>No</td>\n",
       "      <td>No</td>\n",
       "    </tr>\n",
       "    <tr>\n",
       "      <th>3881</th>\n",
       "      <td>313-84-1457</td>\n",
       "      <td>Female</td>\n",
       "      <td>SAT</td>\n",
       "      <td>500-599</td>\n",
       "      <td>700-800</td>\n",
       "      <td>NaN</td>\n",
       "      <td>NaN</td>\n",
       "      <td>1.0-1.99</td>\n",
       "      <td>No</td>\n",
       "      <td>College Owned/Operated</td>\n",
       "      <td>No</td>\n",
       "      <td>Yes</td>\n",
       "      <td>No</td>\n",
       "    </tr>\n",
       "    <tr>\n",
       "      <th>3882</th>\n",
       "      <td>321-16-7824</td>\n",
       "      <td>Female</td>\n",
       "      <td>SAT</td>\n",
       "      <td>600-699</td>\n",
       "      <td>600-699</td>\n",
       "      <td>NaN</td>\n",
       "      <td>Top Quarter</td>\n",
       "      <td>2.50-2.99</td>\n",
       "      <td>No</td>\n",
       "      <td>Off-Campus</td>\n",
       "      <td>No</td>\n",
       "      <td>No</td>\n",
       "      <td>No</td>\n",
       "    </tr>\n",
       "  </tbody>\n",
       "</table>\n",
       "<p>3883 rows × 13 columns</p>\n",
       "</div>"
      ],
      "text/plain": [
       "       student_id  gender scores_submitted sat_reading_writing_range  \\\n",
       "0     046-46-0144    Male              SAT                   500-599   \n",
       "1     571-27-9819  Female              SAT                   700-800   \n",
       "2     080-49-9674  Female              ACT                       NaN   \n",
       "3     956-46-6295  Female              ACT                       NaN   \n",
       "4     784-70-5844  Female              ACT                       NaN   \n",
       "...           ...     ...              ...                       ...   \n",
       "3878  156-07-8473    Male              ACT                       NaN   \n",
       "3879  150-09-9432  Female              ACT                       NaN   \n",
       "3880  351-29-9416  Female              ACT                       NaN   \n",
       "3881  313-84-1457  Female              SAT                   500-599   \n",
       "3882  321-16-7824  Female              SAT                   600-699   \n",
       "\n",
       "     sat_math_range act_composite_range high_school_ranking  gpa_range  \\\n",
       "0           400-499                 NaN                 NaN  2.50-2.99   \n",
       "1           500-599                 NaN         Top Quarter   2.0-2.49   \n",
       "2               NaN               18-23                 NaN  3.00-3.24   \n",
       "3               NaN               18-23                 NaN      3.75+   \n",
       "4               NaN               18-23                 NaN      3.75+   \n",
       "...             ...                 ...                 ...        ...   \n",
       "3878            NaN               24-29         Top Quarter      3.75+   \n",
       "3879            NaN               24-29                 NaN  3.00-3.24   \n",
       "3880            NaN               18-23            Top Half  3.00-3.24   \n",
       "3881        700-800                 NaN                 NaN   1.0-1.99   \n",
       "3882        600-699                 NaN         Top Quarter  2.50-2.99   \n",
       "\n",
       "     out_of_state_flag                 housing non-traditional_student  \\\n",
       "0                   No  College Owned/Operated                      No   \n",
       "1                   No  College Owned/Operated                      No   \n",
       "2                  Yes  College Owned/Operated                      No   \n",
       "3                   No  College Owned/Operated                      No   \n",
       "4                   No  College Owned/Operated                      No   \n",
       "...                ...                     ...                     ...   \n",
       "3878                No  College Owned/Operated                      No   \n",
       "3879                No  College Owned/Operated                      No   \n",
       "3880                No  College Owned/Operated                      No   \n",
       "3881                No  College Owned/Operated                      No   \n",
       "3882                No              Off-Campus                      No   \n",
       "\n",
       "     transfer_student full-time  \n",
       "0                  No       Yes  \n",
       "1                  No        No  \n",
       "2                  No       Yes  \n",
       "3                  No       Yes  \n",
       "4                  No       Yes  \n",
       "...               ...       ...  \n",
       "3878               No       Yes  \n",
       "3879               No       Yes  \n",
       "3880               No        No  \n",
       "3881              Yes        No  \n",
       "3882               No        No  \n",
       "\n",
       "[3883 rows x 13 columns]"
      ]
     },
     "execution_count": 9,
     "metadata": {},
     "output_type": "execute_result"
    }
   ],
   "source": [
    "df"
   ]
  },
  {
   "cell_type": "code",
   "execution_count": 10,
   "metadata": {},
   "outputs": [
    {
     "name": "stdout",
     "output_type": "stream",
     "text": [
      "<class 'pandas.core.frame.DataFrame'>\n",
      "RangeIndex: 3883 entries, 0 to 3882\n",
      "Data columns (total 13 columns):\n",
      " #   Column                     Non-Null Count  Dtype \n",
      "---  ------                     --------------  ----- \n",
      " 0   student_id                 3883 non-null   object\n",
      " 1   gender                     3883 non-null   object\n",
      " 2   scores_submitted           3883 non-null   object\n",
      " 3   sat_reading_writing_range  1578 non-null   object\n",
      " 4   sat_math_range             1578 non-null   object\n",
      " 5   act_composite_range        2305 non-null   object\n",
      " 6   high_school_ranking        2159 non-null   object\n",
      " 7   gpa_range                  3883 non-null   object\n",
      " 8   out_of_state_flag          3883 non-null   object\n",
      " 9   housing                    3883 non-null   object\n",
      " 10  non-traditional_student    3883 non-null   object\n",
      " 11  transfer_student           3883 non-null   object\n",
      " 12  full-time                  3883 non-null   object\n",
      "dtypes: object(13)\n",
      "memory usage: 394.5+ KB\n"
     ]
    }
   ],
   "source": [
    "df.info()"
   ]
  },
  {
   "cell_type": "code",
   "execution_count": 11,
   "metadata": {},
   "outputs": [
    {
     "data": {
      "text/html": [
       "<div>\n",
       "<style scoped>\n",
       "    .dataframe tbody tr th:only-of-type {\n",
       "        vertical-align: middle;\n",
       "    }\n",
       "\n",
       "    .dataframe tbody tr th {\n",
       "        vertical-align: top;\n",
       "    }\n",
       "\n",
       "    .dataframe thead th {\n",
       "        text-align: right;\n",
       "    }\n",
       "</style>\n",
       "<table border=\"1\" class=\"dataframe\">\n",
       "  <thead>\n",
       "    <tr style=\"text-align: right;\">\n",
       "      <th></th>\n",
       "      <th>student_id</th>\n",
       "      <th>gender</th>\n",
       "      <th>scores_submitted</th>\n",
       "      <th>sat_reading_writing_range</th>\n",
       "      <th>sat_math_range</th>\n",
       "      <th>act_composite_range</th>\n",
       "      <th>high_school_ranking</th>\n",
       "      <th>gpa_range</th>\n",
       "      <th>out_of_state_flag</th>\n",
       "      <th>housing</th>\n",
       "      <th>non-traditional_student</th>\n",
       "      <th>transfer_student</th>\n",
       "      <th>full-time</th>\n",
       "    </tr>\n",
       "  </thead>\n",
       "  <tbody>\n",
       "    <tr>\n",
       "      <th>count</th>\n",
       "      <td>3883</td>\n",
       "      <td>3883</td>\n",
       "      <td>3883</td>\n",
       "      <td>1578</td>\n",
       "      <td>1578</td>\n",
       "      <td>2305</td>\n",
       "      <td>2159</td>\n",
       "      <td>3883</td>\n",
       "      <td>3883</td>\n",
       "      <td>3883</td>\n",
       "      <td>3883</td>\n",
       "      <td>3883</td>\n",
       "      <td>3883</td>\n",
       "    </tr>\n",
       "    <tr>\n",
       "      <th>unique</th>\n",
       "      <td>3883</td>\n",
       "      <td>4</td>\n",
       "      <td>2</td>\n",
       "      <td>5</td>\n",
       "      <td>5</td>\n",
       "      <td>4</td>\n",
       "      <td>5</td>\n",
       "      <td>7</td>\n",
       "      <td>2</td>\n",
       "      <td>2</td>\n",
       "      <td>2</td>\n",
       "      <td>2</td>\n",
       "      <td>2</td>\n",
       "    </tr>\n",
       "    <tr>\n",
       "      <th>top</th>\n",
       "      <td>846-63-0516</td>\n",
       "      <td>Male</td>\n",
       "      <td>ACT</td>\n",
       "      <td>500-599</td>\n",
       "      <td>500-599</td>\n",
       "      <td>18-23</td>\n",
       "      <td>Top Half</td>\n",
       "      <td>3.25-3.49</td>\n",
       "      <td>No</td>\n",
       "      <td>College Owned/Operated</td>\n",
       "      <td>No</td>\n",
       "      <td>No</td>\n",
       "      <td>Yes</td>\n",
       "    </tr>\n",
       "    <tr>\n",
       "      <th>freq</th>\n",
       "      <td>1</td>\n",
       "      <td>1972</td>\n",
       "      <td>2305</td>\n",
       "      <td>897</td>\n",
       "      <td>868</td>\n",
       "      <td>1131</td>\n",
       "      <td>931</td>\n",
       "      <td>592</td>\n",
       "      <td>3501</td>\n",
       "      <td>3339</td>\n",
       "      <td>3733</td>\n",
       "      <td>3689</td>\n",
       "      <td>2907</td>\n",
       "    </tr>\n",
       "  </tbody>\n",
       "</table>\n",
       "</div>"
      ],
      "text/plain": [
       "         student_id gender scores_submitted sat_reading_writing_range  \\\n",
       "count          3883   3883             3883                      1578   \n",
       "unique         3883      4                2                         5   \n",
       "top     846-63-0516   Male              ACT                   500-599   \n",
       "freq              1   1972             2305                       897   \n",
       "\n",
       "       sat_math_range act_composite_range high_school_ranking  gpa_range  \\\n",
       "count            1578                2305                2159       3883   \n",
       "unique              5                   4                   5          7   \n",
       "top           500-599               18-23            Top Half  3.25-3.49   \n",
       "freq              868                1131                 931        592   \n",
       "\n",
       "       out_of_state_flag                 housing non-traditional_student  \\\n",
       "count               3883                    3883                    3883   \n",
       "unique                 2                       2                       2   \n",
       "top                   No  College Owned/Operated                      No   \n",
       "freq                3501                    3339                    3733   \n",
       "\n",
       "       transfer_student full-time  \n",
       "count              3883      3883  \n",
       "unique                2         2  \n",
       "top                  No       Yes  \n",
       "freq               3689      2907  "
      ]
     },
     "execution_count": 11,
     "metadata": {},
     "output_type": "execute_result"
    }
   ],
   "source": [
    "df.describe()"
   ]
  },
  {
   "cell_type": "code",
   "execution_count": 12,
   "metadata": {},
   "outputs": [
    {
     "data": {
      "text/plain": [
       "student_id                      0\n",
       "gender                          0\n",
       "scores_submitted                0\n",
       "sat_reading_writing_range    2305\n",
       "sat_math_range               2305\n",
       "act_composite_range          1578\n",
       "high_school_ranking          1724\n",
       "gpa_range                       0\n",
       "out_of_state_flag               0\n",
       "housing                         0\n",
       "non-traditional_student         0\n",
       "transfer_student                0\n",
       "full-time                       0\n",
       "dtype: int64"
      ]
     },
     "execution_count": 12,
     "metadata": {},
     "output_type": "execute_result"
    }
   ],
   "source": [
    "df.isna().sum()"
   ]
  },
  {
   "cell_type": "code",
   "execution_count": null,
   "metadata": {},
   "outputs": [],
   "source": [
    "df.drop(columns=['sat_reading_writing_range', 'sat_math_range', 'act_composite_range', 'high_school_ranking'], inplace=True)"
   ]
  },
  {
   "cell_type": "code",
   "execution_count": 17,
   "metadata": {},
   "outputs": [
    {
     "data": {
      "text/html": [
       "<div>\n",
       "<style scoped>\n",
       "    .dataframe tbody tr th:only-of-type {\n",
       "        vertical-align: middle;\n",
       "    }\n",
       "\n",
       "    .dataframe tbody tr th {\n",
       "        vertical-align: top;\n",
       "    }\n",
       "\n",
       "    .dataframe thead th {\n",
       "        text-align: right;\n",
       "    }\n",
       "</style>\n",
       "<table border=\"1\" class=\"dataframe\">\n",
       "  <thead>\n",
       "    <tr style=\"text-align: right;\">\n",
       "      <th></th>\n",
       "      <th>student_id</th>\n",
       "      <th>gender</th>\n",
       "      <th>scores_submitted</th>\n",
       "      <th>gpa_range</th>\n",
       "      <th>out_of_state_flag</th>\n",
       "      <th>housing</th>\n",
       "      <th>non-traditional_student</th>\n",
       "      <th>transfer_student</th>\n",
       "      <th>full-time</th>\n",
       "    </tr>\n",
       "  </thead>\n",
       "  <tbody>\n",
       "    <tr>\n",
       "      <th>0</th>\n",
       "      <td>046-46-0144</td>\n",
       "      <td>Male</td>\n",
       "      <td>SAT</td>\n",
       "      <td>2.50-2.99</td>\n",
       "      <td>No</td>\n",
       "      <td>College Owned/Operated</td>\n",
       "      <td>No</td>\n",
       "      <td>No</td>\n",
       "      <td>Yes</td>\n",
       "    </tr>\n",
       "    <tr>\n",
       "      <th>1</th>\n",
       "      <td>571-27-9819</td>\n",
       "      <td>Female</td>\n",
       "      <td>SAT</td>\n",
       "      <td>2.0-2.49</td>\n",
       "      <td>No</td>\n",
       "      <td>College Owned/Operated</td>\n",
       "      <td>No</td>\n",
       "      <td>No</td>\n",
       "      <td>No</td>\n",
       "    </tr>\n",
       "    <tr>\n",
       "      <th>2</th>\n",
       "      <td>080-49-9674</td>\n",
       "      <td>Female</td>\n",
       "      <td>ACT</td>\n",
       "      <td>3.00-3.24</td>\n",
       "      <td>Yes</td>\n",
       "      <td>College Owned/Operated</td>\n",
       "      <td>No</td>\n",
       "      <td>No</td>\n",
       "      <td>Yes</td>\n",
       "    </tr>\n",
       "    <tr>\n",
       "      <th>3</th>\n",
       "      <td>956-46-6295</td>\n",
       "      <td>Female</td>\n",
       "      <td>ACT</td>\n",
       "      <td>3.75+</td>\n",
       "      <td>No</td>\n",
       "      <td>College Owned/Operated</td>\n",
       "      <td>No</td>\n",
       "      <td>No</td>\n",
       "      <td>Yes</td>\n",
       "    </tr>\n",
       "    <tr>\n",
       "      <th>4</th>\n",
       "      <td>784-70-5844</td>\n",
       "      <td>Female</td>\n",
       "      <td>ACT</td>\n",
       "      <td>3.75+</td>\n",
       "      <td>No</td>\n",
       "      <td>College Owned/Operated</td>\n",
       "      <td>No</td>\n",
       "      <td>No</td>\n",
       "      <td>Yes</td>\n",
       "    </tr>\n",
       "    <tr>\n",
       "      <th>...</th>\n",
       "      <td>...</td>\n",
       "      <td>...</td>\n",
       "      <td>...</td>\n",
       "      <td>...</td>\n",
       "      <td>...</td>\n",
       "      <td>...</td>\n",
       "      <td>...</td>\n",
       "      <td>...</td>\n",
       "      <td>...</td>\n",
       "    </tr>\n",
       "    <tr>\n",
       "      <th>3878</th>\n",
       "      <td>156-07-8473</td>\n",
       "      <td>Male</td>\n",
       "      <td>ACT</td>\n",
       "      <td>3.75+</td>\n",
       "      <td>No</td>\n",
       "      <td>College Owned/Operated</td>\n",
       "      <td>No</td>\n",
       "      <td>No</td>\n",
       "      <td>Yes</td>\n",
       "    </tr>\n",
       "    <tr>\n",
       "      <th>3879</th>\n",
       "      <td>150-09-9432</td>\n",
       "      <td>Female</td>\n",
       "      <td>ACT</td>\n",
       "      <td>3.00-3.24</td>\n",
       "      <td>No</td>\n",
       "      <td>College Owned/Operated</td>\n",
       "      <td>No</td>\n",
       "      <td>No</td>\n",
       "      <td>Yes</td>\n",
       "    </tr>\n",
       "    <tr>\n",
       "      <th>3880</th>\n",
       "      <td>351-29-9416</td>\n",
       "      <td>Female</td>\n",
       "      <td>ACT</td>\n",
       "      <td>3.00-3.24</td>\n",
       "      <td>No</td>\n",
       "      <td>College Owned/Operated</td>\n",
       "      <td>No</td>\n",
       "      <td>No</td>\n",
       "      <td>No</td>\n",
       "    </tr>\n",
       "    <tr>\n",
       "      <th>3881</th>\n",
       "      <td>313-84-1457</td>\n",
       "      <td>Female</td>\n",
       "      <td>SAT</td>\n",
       "      <td>1.0-1.99</td>\n",
       "      <td>No</td>\n",
       "      <td>College Owned/Operated</td>\n",
       "      <td>No</td>\n",
       "      <td>Yes</td>\n",
       "      <td>No</td>\n",
       "    </tr>\n",
       "    <tr>\n",
       "      <th>3882</th>\n",
       "      <td>321-16-7824</td>\n",
       "      <td>Female</td>\n",
       "      <td>SAT</td>\n",
       "      <td>2.50-2.99</td>\n",
       "      <td>No</td>\n",
       "      <td>Off-Campus</td>\n",
       "      <td>No</td>\n",
       "      <td>No</td>\n",
       "      <td>No</td>\n",
       "    </tr>\n",
       "  </tbody>\n",
       "</table>\n",
       "<p>3883 rows × 9 columns</p>\n",
       "</div>"
      ],
      "text/plain": [
       "       student_id  gender scores_submitted  gpa_range out_of_state_flag  \\\n",
       "0     046-46-0144    Male              SAT  2.50-2.99                No   \n",
       "1     571-27-9819  Female              SAT   2.0-2.49                No   \n",
       "2     080-49-9674  Female              ACT  3.00-3.24               Yes   \n",
       "3     956-46-6295  Female              ACT      3.75+                No   \n",
       "4     784-70-5844  Female              ACT      3.75+                No   \n",
       "...           ...     ...              ...        ...               ...   \n",
       "3878  156-07-8473    Male              ACT      3.75+                No   \n",
       "3879  150-09-9432  Female              ACT  3.00-3.24                No   \n",
       "3880  351-29-9416  Female              ACT  3.00-3.24                No   \n",
       "3881  313-84-1457  Female              SAT   1.0-1.99                No   \n",
       "3882  321-16-7824  Female              SAT  2.50-2.99                No   \n",
       "\n",
       "                     housing non-traditional_student transfer_student  \\\n",
       "0     College Owned/Operated                      No               No   \n",
       "1     College Owned/Operated                      No               No   \n",
       "2     College Owned/Operated                      No               No   \n",
       "3     College Owned/Operated                      No               No   \n",
       "4     College Owned/Operated                      No               No   \n",
       "...                      ...                     ...              ...   \n",
       "3878  College Owned/Operated                      No               No   \n",
       "3879  College Owned/Operated                      No               No   \n",
       "3880  College Owned/Operated                      No               No   \n",
       "3881  College Owned/Operated                      No              Yes   \n",
       "3882              Off-Campus                      No               No   \n",
       "\n",
       "     full-time  \n",
       "0          Yes  \n",
       "1           No  \n",
       "2          Yes  \n",
       "3          Yes  \n",
       "4          Yes  \n",
       "...        ...  \n",
       "3878       Yes  \n",
       "3879       Yes  \n",
       "3880        No  \n",
       "3881        No  \n",
       "3882        No  \n",
       "\n",
       "[3883 rows x 9 columns]"
      ]
     },
     "execution_count": 17,
     "metadata": {},
     "output_type": "execute_result"
    }
   ],
   "source": [
    "df"
   ]
  },
  {
   "cell_type": "code",
   "execution_count": 18,
   "metadata": {},
   "outputs": [
    {
     "data": {
      "text/plain": [
       "student_id                 0\n",
       "gender                     0\n",
       "scores_submitted           0\n",
       "gpa_range                  0\n",
       "out_of_state_flag          0\n",
       "housing                    0\n",
       "non-traditional_student    0\n",
       "transfer_student           0\n",
       "full-time                  0\n",
       "dtype: int64"
      ]
     },
     "execution_count": 18,
     "metadata": {},
     "output_type": "execute_result"
    }
   ],
   "source": [
    "df.isna().sum()"
   ]
  },
  {
   "cell_type": "code",
   "execution_count": 19,
   "metadata": {},
   "outputs": [],
   "source": [
    "df_nums = df._get_numeric_data()"
   ]
  },
  {
   "cell_type": "code",
   "execution_count": 21,
   "metadata": {},
   "outputs": [
    {
     "data": {
      "text/html": [
       "<div>\n",
       "<style scoped>\n",
       "    .dataframe tbody tr th:only-of-type {\n",
       "        vertical-align: middle;\n",
       "    }\n",
       "\n",
       "    .dataframe tbody tr th {\n",
       "        vertical-align: top;\n",
       "    }\n",
       "\n",
       "    .dataframe thead th {\n",
       "        text-align: right;\n",
       "    }\n",
       "</style>\n",
       "<table border=\"1\" class=\"dataframe\">\n",
       "  <thead>\n",
       "    <tr style=\"text-align: right;\">\n",
       "      <th></th>\n",
       "    </tr>\n",
       "  </thead>\n",
       "  <tbody>\n",
       "    <tr>\n",
       "      <th>0</th>\n",
       "    </tr>\n",
       "    <tr>\n",
       "      <th>1</th>\n",
       "    </tr>\n",
       "    <tr>\n",
       "      <th>2</th>\n",
       "    </tr>\n",
       "    <tr>\n",
       "      <th>3</th>\n",
       "    </tr>\n",
       "    <tr>\n",
       "      <th>4</th>\n",
       "    </tr>\n",
       "    <tr>\n",
       "      <th>...</th>\n",
       "    </tr>\n",
       "    <tr>\n",
       "      <th>3878</th>\n",
       "    </tr>\n",
       "    <tr>\n",
       "      <th>3879</th>\n",
       "    </tr>\n",
       "    <tr>\n",
       "      <th>3880</th>\n",
       "    </tr>\n",
       "    <tr>\n",
       "      <th>3881</th>\n",
       "    </tr>\n",
       "    <tr>\n",
       "      <th>3882</th>\n",
       "    </tr>\n",
       "  </tbody>\n",
       "</table>\n",
       "<p>3883 rows × 0 columns</p>\n",
       "</div>"
      ],
      "text/plain": [
       "Empty DataFrame\n",
       "Columns: []\n",
       "Index: [0, 1, 2, 3, 4, 5, 6, 7, 8, 9, 10, 11, 12, 13, 14, 15, 16, 17, 18, 19, 20, 21, 22, 23, 24, 25, 26, 27, 28, 29, 30, 31, 32, 33, 34, 35, 36, 37, 38, 39, 40, 41, 42, 43, 44, 45, 46, 47, 48, 49, 50, 51, 52, 53, 54, 55, 56, 57, 58, 59, 60, 61, 62, 63, 64, 65, 66, 67, 68, 69, 70, 71, 72, 73, 74, 75, 76, 77, 78, 79, 80, 81, 82, 83, 84, 85, 86, 87, 88, 89, 90, 91, 92, 93, 94, 95, 96, 97, 98, 99, ...]\n",
       "\n",
       "[3883 rows x 0 columns]"
      ]
     },
     "execution_count": 21,
     "metadata": {},
     "output_type": "execute_result"
    }
   ],
   "source": [
    "df_nums"
   ]
  },
  {
   "cell_type": "code",
   "execution_count": 20,
   "metadata": {},
   "outputs": [],
   "source": [
    "df_cats = df.drop(columns=df_nums.columns)"
   ]
  },
  {
   "cell_type": "code",
   "execution_count": 22,
   "metadata": {
    "scrolled": false
   },
   "outputs": [
    {
     "data": {
      "image/png": "[encoded data removed]",
      "text/plain": [
       "<Figure size 864x432 with 1 Axes>"
      ]
     },
     "metadata": {
      "needs_background": "light"
     },
     "output_type": "display_data"
    },
    {
     "data": {
      "image/png": "[encoded data removed]",
      "text/plain": [
       "<Figure size 864x432 with 1 Axes>"
      ]
     },
     "metadata": {
      "needs_background": "light"
     },
     "output_type": "display_data"
    },
    {
     "data": {
      "image/png": "[encoded data removed]",
      "text/plain": [
       "<Figure size 864x432 with 1 Axes>"
      ]
     },
     "metadata": {
      "needs_background": "light"
     },
     "output_type": "display_data"
    },
    {
     "data": {
      "image/png": "[encoded data removed]",
      "text/plain": [
       "<Figure size 864x432 with 1 Axes>"
      ]
     },
     "metadata": {
      "needs_background": "light"
     },
     "output_type": "display_data"
    },
    {
     "data": {
      "image/png": "[encoded data removed]",
      "text/plain": [
       "<Figure size 864x432 with 1 Axes>"
      ]
     },
     "metadata": {
      "needs_background": "light"
     },
     "output_type": "display_data"
    },
    {
     "data": {
      "image/png": "[encoded data removed]",
      "text/plain": [
       "<Figure size 864x432 with 1 Axes>"
      ]
     },
     "metadata": {
      "needs_background": "light"
     },
     "output_type": "display_data"
    },
    {
     "data": {
      "image/png": "[encoded data removed]",
      "text/plain": [
       "<Figure size 864x432 with 1 Axes>"
      ]
     },
     "metadata": {
      "needs_background": "light"
     },
     "output_type": "display_data"
    },
    {
     "data": {
      "image/png": "[encoded data removed]",
      "text/plain": [
       "<Figure size 864x432 with 1 Axes>"
      ]
     },
     "metadata": {
      "needs_background": "light"
     },
     "output_type": "display_data"
    },
    {
     "data": {
      "image/png": "[encoded data removed]",
      "text/plain": [
       "<Figure size 864x432 with 1 Axes>"
      ]
     },
     "metadata": {
      "needs_background": "light"
     },
     "output_type": "display_data"
    }
   ],
   "source": [
    "for column in df_cats.select_dtypes(include='object'):\n",
    "    if df_cats[column].nunique():\n",
    "        fig, ax = plt.subplots(figsize=(12,6))\n",
    "        sns.countplot(y=column, data=df_cats)\n",
    "        plt.show()"
   ]
  },
  {
   "cell_type": "markdown",
   "metadata": {},
   "source": [
    "##### Gender visualizations"
   ]
  },
  {
   "cell_type": "code",
   "execution_count": 23,
   "metadata": {},
   "outputs": [
    {
     "data": {
      "text/plain": [
       "Male             1972\n",
       "Female           1826\n",
       "Not Disclosed      43\n",
       "Trans              42\n",
       "Name: gender, dtype: int64"
      ]
     },
     "execution_count": 23,
     "metadata": {},
     "output_type": "execute_result"
    }
   ],
   "source": [
    "df['gender'].value_counts()"
   ]
  },
  {
   "cell_type": "code",
   "execution_count": 24,
   "metadata": {},
   "outputs": [
    {
     "data": {
      "text/plain": [
       "<AxesSubplot:xlabel='gender', ylabel='count'>"
      ]
     },
     "execution_count": 24,
     "metadata": {},
     "output_type": "execute_result"
    },
    {
     "data": {
      "image/png": "[encoded data removed]",
      "text/plain": [
       "<Figure size 720x432 with 1 Axes>"
      ]
     },
     "metadata": {
      "needs_background": "light"
     },
     "output_type": "display_data"
    }
   ],
   "source": [
    "fig, ax = plt.subplots(figsize=(10,6))\n",
    "sns.countplot(df['gender'])"
   ]
  },
  {
   "cell_type": "code",
   "execution_count": 25,
   "metadata": {},
   "outputs": [
    {
     "data": {
      "text/plain": [
       "<AxesSubplot:xlabel='gender', ylabel='count'>"
      ]
     },
     "execution_count": 25,
     "metadata": {},
     "output_type": "execute_result"
    },
    {
     "data": {
      "image/png": "[encoded data removed]",
      "text/plain": [
       "<Figure size 864x432 with 1 Axes>"
      ]
     },
     "metadata": {
      "needs_background": "light"
     },
     "output_type": "display_data"
    }
   ],
   "source": [
    "fig, ax = plt.subplots(figsize=(12,6))\n",
    "sns.countplot(x ='gender',hue='gpa_range' , data = df )"
   ]
  },
  {
   "cell_type": "code",
   "execution_count": 26,
   "metadata": {},
   "outputs": [
    {
     "data": {
      "text/plain": [
       "<AxesSubplot:xlabel='gender', ylabel='count'>"
      ]
     },
     "execution_count": 26,
     "metadata": {},
     "output_type": "execute_result"
    },
    {
     "data": {
      "image/png": "[encoded data removed]",
      "text/plain": [
       "<Figure size 864x432 with 1 Axes>"
      ]
     },
     "metadata": {
      "needs_background": "light"
     },
     "output_type": "display_data"
    }
   ],
   "source": [
    "fig, ax = plt.subplots(figsize=(12,6))\n",
    "sns.countplot(x ='gender',hue='housing' , data = df )"
   ]
  },
  {
   "cell_type": "code",
   "execution_count": 27,
   "metadata": {},
   "outputs": [
    {
     "data": {
      "text/plain": [
       "<AxesSubplot:xlabel='gender', ylabel='count'>"
      ]
     },
     "execution_count": 27,
     "metadata": {},
     "output_type": "execute_result"
    },
    {
     "data": {
      "image/png": "[encoded data removed]",
      "text/plain": [
       "<Figure size 864x432 with 1 Axes>"
      ]
     },
     "metadata": {
      "needs_background": "light"
     },
     "output_type": "display_data"
    }
   ],
   "source": [
    "fig, ax = plt.subplots(figsize=(12,6))\n",
    "sns.countplot(x ='gender',hue='scores_submitted' , data = df )"
   ]
  },
  {
   "cell_type": "code",
   "execution_count": 28,
   "metadata": {},
   "outputs": [
    {
     "data": {
      "text/plain": [
       "<AxesSubplot:xlabel='gender', ylabel='count'>"
      ]
     },
     "execution_count": 28,
     "metadata": {},
     "output_type": "execute_result"
    },
    {
     "data": {
      "image/png": "[encoded data removed]",
      "text/plain": [
       "<Figure size 864x432 with 1 Axes>"
      ]
     },
     "metadata": {
      "needs_background": "light"
     },
     "output_type": "display_data"
    }
   ],
   "source": [
    "fig, ax = plt.subplots(figsize=(12,6))\n",
    "sns.countplot(x ='gender',hue='out_of_state_flag' , data = df )"
   ]
  },
  {
   "cell_type": "code",
   "execution_count": 29,
   "metadata": {},
   "outputs": [
    {
     "data": {
      "text/plain": [
       "<AxesSubplot:xlabel='gender', ylabel='count'>"
      ]
     },
     "execution_count": 29,
     "metadata": {},
     "output_type": "execute_result"
    },
    {
     "data": {
      "image/png": "[encoded data removed]",
      "text/plain": [
       "<Figure size 864x432 with 1 Axes>"
      ]
     },
     "metadata": {
      "needs_background": "light"
     },
     "output_type": "display_data"
    }
   ],
   "source": [
    "fig, ax = plt.subplots(figsize=(12,6))\n",
    "sns.countplot(x ='gender',hue='non-traditional_student' , data = df )"
   ]
  },
  {
   "cell_type": "code",
   "execution_count": 30,
   "metadata": {},
   "outputs": [
    {
     "data": {
      "text/plain": [
       "<AxesSubplot:xlabel='gender', ylabel='count'>"
      ]
     },
     "execution_count": 30,
     "metadata": {},
     "output_type": "execute_result"
    },
    {
     "data": {
      "image/png": "[encoded data removed]",
      "text/plain": [
       "<Figure size 864x432 with 1 Axes>"
      ]
     },
     "metadata": {
      "needs_background": "light"
     },
     "output_type": "display_data"
    }
   ],
   "source": [
    "fig, ax = plt.subplots(figsize=(12,6))\n",
    "sns.countplot(x ='gender',hue='transfer_student' , data = df )"
   ]
  },
  {
   "cell_type": "code",
   "execution_count": 31,
   "metadata": {},
   "outputs": [
    {
     "data": {
      "text/plain": [
       "<AxesSubplot:xlabel='gender', ylabel='count'>"
      ]
     },
     "execution_count": 31,
     "metadata": {},
     "output_type": "execute_result"
    },
    {
     "data": {
      "image/png": "[encoded data removed]",
      "text/plain": [
       "<Figure size 864x432 with 1 Axes>"
      ]
     },
     "metadata": {
      "needs_background": "light"
     },
     "output_type": "display_data"
    }
   ],
   "source": [
    "fig, ax = plt.subplots(figsize=(12,6))\n",
    "sns.countplot(x ='gender',hue='full-time' , data = df )"
   ]
  }
 ],
 "metadata": {
  "kernelspec": {
   "display_name": "Python 3",
   "language": "python",
   "name": "python3"
  },
  "language_info": {
   "codemirror_mode": {
    "name": "ipython",
    "version": 3
   },
   "file_extension": ".py",
   "mimetype": "text/x-python",
   "name": "python",
   "nbconvert_exporter": "python",
   "pygments_lexer": "ipython3",
   "version": "3.8.5"
  }
 },
 "nbformat": 4,
 "nbformat_minor": 4
}
